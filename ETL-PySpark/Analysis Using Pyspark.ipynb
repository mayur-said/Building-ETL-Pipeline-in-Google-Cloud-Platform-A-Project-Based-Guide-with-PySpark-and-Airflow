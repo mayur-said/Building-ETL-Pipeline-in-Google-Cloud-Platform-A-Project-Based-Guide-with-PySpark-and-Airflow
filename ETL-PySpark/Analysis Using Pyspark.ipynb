{
 "cells": [
  {
   "cell_type": "code",
   "execution_count": 36,
   "id": "4e521992",
   "metadata": {},
   "outputs": [],
   "source": [
    "from pyspark.sql import SparkSession\n",
    "from pyspark.sql.functions import to_timestamp, count, when, col"
   ]
  },
  {
   "cell_type": "code",
   "execution_count": 4,
   "id": "57827dfb",
   "metadata": {},
   "outputs": [],
   "source": [
    "spark=SparkSession.builder.appName('new-york-taxi').getOrCreate()\n",
    "spark.conf.set(\"spark.sql.repl.eagerEval.enabled\", True)"
   ]
  },
  {
   "cell_type": "code",
   "execution_count": 3,
   "id": "58c9ba3b",
   "metadata": {},
   "outputs": [
    {
     "data": {
      "text/html": [
       "\n",
       "            <div>\n",
       "                <p><b>SparkSession - in-memory</b></p>\n",
       "                \n",
       "        <div>\n",
       "            <p><b>SparkContext</b></p>\n",
       "\n",
       "            <p><a href=\"http://host.docker.internal:4040\">Spark UI</a></p>\n",
       "\n",
       "            <dl>\n",
       "              <dt>Version</dt>\n",
       "                <dd><code>v3.2.1</code></dd>\n",
       "              <dt>Master</dt>\n",
       "                <dd><code>local[*]</code></dd>\n",
       "              <dt>AppName</dt>\n",
       "                <dd><code>new-york-taxi</code></dd>\n",
       "            </dl>\n",
       "        </div>\n",
       "        \n",
       "            </div>\n",
       "        "
      ],
      "text/plain": [
       "<pyspark.sql.session.SparkSession at 0x204ad748b80>"
      ]
     },
     "execution_count": 3,
     "metadata": {},
     "output_type": "execute_result"
    }
   ],
   "source": [
    "spark"
   ]
  },
  {
   "cell_type": "markdown",
   "id": "01c0bb73",
   "metadata": {},
   "source": [
    "### Trip Data"
   ]
  },
  {
   "cell_type": "code",
   "execution_count": 5,
   "id": "4f19ffc9",
   "metadata": {},
   "outputs": [],
   "source": [
    "trip_data = spark.read.option(\"header\", True).option(\"inferSchema\", True).csv('data\\\\trip_data\\\\trip_data_test.csv')"
   ]
  },
  {
   "cell_type": "code",
   "execution_count": 6,
   "id": "e927d6ff",
   "metadata": {},
   "outputs": [
    {
     "data": {
      "text/plain": [
       "10000"
      ]
     },
     "execution_count": 6,
     "metadata": {},
     "output_type": "execute_result"
    }
   ],
   "source": [
    "trip_data.count()"
   ]
  },
  {
   "cell_type": "code",
   "execution_count": 7,
   "id": "fee732fb",
   "metadata": {},
   "outputs": [],
   "source": [
    "old_column_names = [' hack_license',\n",
    " ' vendor_id',\n",
    " ' rate_code',\n",
    " ' store_and_fwd_flag',\n",
    " ' pickup_datetime',\n",
    " ' dropoff_datetime',\n",
    " ' passenger_count',\n",
    " ' trip_time_in_secs',\n",
    " ' trip_distance',\n",
    " ' pickup_longitude',\n",
    " ' pickup_latitude',\n",
    " ' dropoff_longitude',\n",
    " ' dropoff_latitude']"
   ]
  },
  {
   "cell_type": "code",
   "execution_count": 8,
   "id": "c0ec1ca8",
   "metadata": {},
   "outputs": [
    {
     "data": {
      "text/plain": [
       "[' hack_license',\n",
       " ' vendor_id',\n",
       " ' rate_code',\n",
       " ' store_and_fwd_flag',\n",
       " ' pickup_datetime',\n",
       " ' dropoff_datetime',\n",
       " ' passenger_count',\n",
       " ' trip_time_in_secs',\n",
       " ' trip_distance',\n",
       " ' pickup_longitude',\n",
       " ' pickup_latitude',\n",
       " ' dropoff_longitude',\n",
       " ' dropoff_latitude']"
      ]
     },
     "execution_count": 8,
     "metadata": {},
     "output_type": "execute_result"
    }
   ],
   "source": [
    "old_column_names"
   ]
  },
  {
   "cell_type": "code",
   "execution_count": 9,
   "id": "b23b154b",
   "metadata": {},
   "outputs": [],
   "source": [
    "new_column_names = [\n",
    " 'hack_license',\n",
    " 'vendor_id',\n",
    " 'rate_code',\n",
    " 'store_and_fwd_flag',\n",
    " 'pickup_datetime',\n",
    " 'dropoff_datetime',\n",
    " 'passenger_count',\n",
    " 'trip_time_in_secs',\n",
    " 'trip_distance',\n",
    " 'pickup_longitude',\n",
    " 'pickup_latitude',\n",
    " 'dropoff_longitude',\n",
    " 'dropoff_latitude']"
   ]
  },
  {
   "cell_type": "code",
   "execution_count": 10,
   "id": "d9563822",
   "metadata": {},
   "outputs": [],
   "source": [
    "for i in range(len(old_column_names)):\n",
    "    trip_data = trip_data.withColumnRenamed(old_column_names[i], new_column_names[i])"
   ]
  },
  {
   "cell_type": "code",
   "execution_count": 11,
   "id": "8c64024d",
   "metadata": {},
   "outputs": [],
   "source": [
    "#string to datetime\n",
    "trip_data = trip_data.withColumn('pickup_datetime', to_timestamp('pickup_datetime')) \\\n",
    "            .withColumn('dropoff_datetime', to_timestamp('dropoff_datetime'))"
   ]
  },
  {
   "cell_type": "code",
   "execution_count": 12,
   "id": "ae2dcc0b",
   "metadata": {},
   "outputs": [
    {
     "name": "stdout",
     "output_type": "stream",
     "text": [
      "root\n",
      " |-- id: integer (nullable = true)\n",
      " |-- medallion: integer (nullable = true)\n",
      " |-- hack_license: integer (nullable = true)\n",
      " |-- vendor_id: string (nullable = true)\n",
      " |-- rate_code: integer (nullable = true)\n",
      " |-- store_and_fwd_flag: string (nullable = true)\n",
      " |-- pickup_datetime: timestamp (nullable = true)\n",
      " |-- dropoff_datetime: timestamp (nullable = true)\n",
      " |-- passenger_count: integer (nullable = true)\n",
      " |-- trip_time_in_secs: integer (nullable = true)\n",
      " |-- trip_distance: double (nullable = true)\n",
      " |-- pickup_longitude: double (nullable = true)\n",
      " |-- pickup_latitude: double (nullable = true)\n",
      " |-- dropoff_longitude: double (nullable = true)\n",
      " |-- dropoff_latitude: double (nullable = true)\n",
      "\n"
     ]
    }
   ],
   "source": [
    "trip_data.printSchema()"
   ]
  },
  {
   "cell_type": "code",
   "execution_count": 13,
   "id": "107ac440",
   "metadata": {},
   "outputs": [
    {
     "data": {
      "text/html": [
       "<table border='1'>\n",
       "<tr><th>id</th><th>medallion</th><th>hack_license</th><th>vendor_id</th><th>rate_code</th><th>store_and_fwd_flag</th><th>pickup_datetime</th><th>dropoff_datetime</th><th>passenger_count</th><th>trip_time_in_secs</th><th>trip_distance</th><th>pickup_longitude</th><th>pickup_latitude</th><th>dropoff_longitude</th><th>dropoff_latitude</th></tr>\n",
       "<tr><td>0</td><td>2013000001</td><td>2013000001</td><td>VTS</td><td>1</td><td>null</td><td>2013-01-01 00:00:00</td><td>2013-01-01 00:28:00</td><td>1</td><td>1680</td><td>3.94</td><td>-73.990784</td><td>40.76088</td><td>-73.954185</td><td>40.778847</td></tr>\n",
       "<tr><td>1</td><td>2013000002</td><td>2013000002</td><td>VTS</td><td>1</td><td>null</td><td>2013-01-01 00:00:00</td><td>2013-01-01 00:06:00</td><td>5</td><td>360</td><td>0.98</td><td>-73.978325</td><td>40.778091</td><td>-73.981834</td><td>40.768639</td></tr>\n",
       "<tr><td>2</td><td>2013000003</td><td>2013000003</td><td>VTS</td><td>1</td><td>null</td><td>2013-01-01 00:00:00</td><td>2013-01-01 00:10:00</td><td>1</td><td>600</td><td>2.77</td><td>-73.989616</td><td>40.729988</td><td>-74.013779</td><td>40.705036</td></tr>\n",
       "<tr><td>3</td><td>2013000004</td><td>2013000004</td><td>VTS</td><td>1</td><td>null</td><td>2013-01-01 00:00:00</td><td>2013-01-01 00:08:00</td><td>2</td><td>480</td><td>1.68</td><td>-73.981575</td><td>40.767632</td><td>-73.977737</td><td>40.757927</td></tr>\n",
       "<tr><td>4</td><td>2013000005</td><td>2013000005</td><td>VTS</td><td>1</td><td>null</td><td>2013-01-01 00:00:00</td><td>2013-01-01 00:16:00</td><td>4</td><td>960</td><td>4.05</td><td>-74.000526</td><td>40.737343</td><td>-73.977226</td><td>40.783607</td></tr>\n",
       "</table>\n"
      ],
      "text/plain": [
       "+---+----------+------------+---------+---------+------------------+-------------------+-------------------+---------------+-----------------+-------------+----------------+---------------+-----------------+----------------+\n",
       "| id| medallion|hack_license|vendor_id|rate_code|store_and_fwd_flag|    pickup_datetime|   dropoff_datetime|passenger_count|trip_time_in_secs|trip_distance|pickup_longitude|pickup_latitude|dropoff_longitude|dropoff_latitude|\n",
       "+---+----------+------------+---------+---------+------------------+-------------------+-------------------+---------------+-----------------+-------------+----------------+---------------+-----------------+----------------+\n",
       "|  0|2013000001|  2013000001|      VTS|        1|              null|2013-01-01 00:00:00|2013-01-01 00:28:00|              1|             1680|         3.94|      -73.990784|       40.76088|       -73.954185|       40.778847|\n",
       "|  1|2013000002|  2013000002|      VTS|        1|              null|2013-01-01 00:00:00|2013-01-01 00:06:00|              5|              360|         0.98|      -73.978325|      40.778091|       -73.981834|       40.768639|\n",
       "|  2|2013000003|  2013000003|      VTS|        1|              null|2013-01-01 00:00:00|2013-01-01 00:10:00|              1|              600|         2.77|      -73.989616|      40.729988|       -74.013779|       40.705036|\n",
       "|  3|2013000004|  2013000004|      VTS|        1|              null|2013-01-01 00:00:00|2013-01-01 00:08:00|              2|              480|         1.68|      -73.981575|      40.767632|       -73.977737|       40.757927|\n",
       "|  4|2013000005|  2013000005|      VTS|        1|              null|2013-01-01 00:00:00|2013-01-01 00:16:00|              4|              960|         4.05|      -74.000526|      40.737343|       -73.977226|       40.783607|\n",
       "+---+----------+------------+---------+---------+------------------+-------------------+-------------------+---------------+-----------------+-------------+----------------+---------------+-----------------+----------------+"
      ]
     },
     "execution_count": 13,
     "metadata": {},
     "output_type": "execute_result"
    }
   ],
   "source": [
    "trip_data.limit(5)"
   ]
  },
  {
   "cell_type": "markdown",
   "id": "1084e4a3",
   "metadata": {},
   "source": [
    "### Fare Data"
   ]
  },
  {
   "cell_type": "code",
   "execution_count": 14,
   "id": "4642275f",
   "metadata": {},
   "outputs": [],
   "source": [
    "fare_data = spark.read.option(\"header\", True).option(\"inferSchema\", True).csv('data\\\\fare_data\\\\fare_data_test.csv')"
   ]
  },
  {
   "cell_type": "code",
   "execution_count": 15,
   "id": "cd6b358e",
   "metadata": {},
   "outputs": [
    {
     "data": {
      "text/plain": [
       "10000"
      ]
     },
     "execution_count": 15,
     "metadata": {},
     "output_type": "execute_result"
    }
   ],
   "source": [
    "fare_data.count()"
   ]
  },
  {
   "cell_type": "code",
   "execution_count": 16,
   "id": "fc9202e2",
   "metadata": {},
   "outputs": [
    {
     "data": {
      "text/plain": [
       "['id',\n",
       " 'medallion',\n",
       " ' hack_license',\n",
       " ' vendor_id',\n",
       " ' pickup_datetime',\n",
       " ' payment_type',\n",
       " ' fare_amount',\n",
       " ' surcharge',\n",
       " ' mta_tax',\n",
       " ' tip_amount',\n",
       " ' tolls_amount',\n",
       " ' total_amount']"
      ]
     },
     "execution_count": 16,
     "metadata": {},
     "output_type": "execute_result"
    }
   ],
   "source": [
    "fare_data.columns"
   ]
  },
  {
   "cell_type": "code",
   "execution_count": 17,
   "id": "1c06f1ad",
   "metadata": {},
   "outputs": [],
   "source": [
    "old_column_names = [\n",
    " ' hack_license',\n",
    " ' vendor_id',\n",
    " ' pickup_datetime',\n",
    " ' payment_type',\n",
    " ' fare_amount',\n",
    " ' surcharge',\n",
    " ' mta_tax',\n",
    " ' tip_amount',\n",
    " ' tolls_amount',\n",
    " ' total_amount']"
   ]
  },
  {
   "cell_type": "code",
   "execution_count": 18,
   "id": "cfe4a357",
   "metadata": {},
   "outputs": [],
   "source": [
    "new_column_names = [\n",
    " 'hack_license',\n",
    " 'vendor_id',\n",
    " 'pickup_datetime',\n",
    " 'payment_type',\n",
    " 'fare_amount',\n",
    " 'surcharge',\n",
    " 'mta_tax',\n",
    " 'tip_amount',\n",
    " 'tolls_amount',\n",
    " 'total_amount']"
   ]
  },
  {
   "cell_type": "code",
   "execution_count": 19,
   "id": "96511a74",
   "metadata": {},
   "outputs": [],
   "source": [
    "for i in range(len(old_column_names)):\n",
    "    fare_data = fare_data.withColumnRenamed(old_column_names[i], new_column_names[i])"
   ]
  },
  {
   "cell_type": "code",
   "execution_count": 20,
   "id": "9ff58bad",
   "metadata": {},
   "outputs": [
    {
     "name": "stdout",
     "output_type": "stream",
     "text": [
      "root\n",
      " |-- id: integer (nullable = true)\n",
      " |-- medallion: integer (nullable = true)\n",
      " |-- hack_license: integer (nullable = true)\n",
      " |-- vendor_id: string (nullable = true)\n",
      " |-- pickup_datetime: string (nullable = true)\n",
      " |-- payment_type: string (nullable = true)\n",
      " |-- fare_amount: double (nullable = true)\n",
      " |-- surcharge: double (nullable = true)\n",
      " |-- mta_tax: double (nullable = true)\n",
      " |-- tip_amount: double (nullable = true)\n",
      " |-- tolls_amount: double (nullable = true)\n",
      " |-- total_amount: double (nullable = true)\n",
      "\n"
     ]
    }
   ],
   "source": [
    "fare_data.printSchema()"
   ]
  },
  {
   "cell_type": "markdown",
   "id": "7e60b79b",
   "metadata": {},
   "source": [
    "### Join Trip Data and Fare Data"
   ]
  },
  {
   "cell_type": "code",
   "execution_count": 21,
   "id": "b82febad",
   "metadata": {},
   "outputs": [],
   "source": [
    "trip_data.createOrReplaceTempView(\"trip_data\")\n",
    "fare_data.createOrReplaceTempView(\"fare_data\")"
   ]
  },
  {
   "cell_type": "code",
   "execution_count": 22,
   "id": "a1a843c4",
   "metadata": {},
   "outputs": [
    {
     "data": {
      "text/plain": [
       "['id',\n",
       " 'medallion',\n",
       " 'hack_license',\n",
       " 'vendor_id',\n",
       " 'pickup_datetime',\n",
       " 'payment_type',\n",
       " 'fare_amount',\n",
       " 'surcharge',\n",
       " 'mta_tax',\n",
       " 'tip_amount',\n",
       " 'tolls_amount',\n",
       " 'total_amount']"
      ]
     },
     "execution_count": 22,
     "metadata": {},
     "output_type": "execute_result"
    }
   ],
   "source": [
    "fare_data.columns"
   ]
  },
  {
   "cell_type": "code",
   "execution_count": 23,
   "id": "bc49af06",
   "metadata": {},
   "outputs": [],
   "source": [
    "final_df = spark.sql('''\n",
    "select\n",
    "    a.id, \n",
    "    a.medallion,\n",
    "    a.hack_license,\n",
    "    a.vendor_id,\n",
    "    a.rate_code,\n",
    "    a.pickup_datetime,\n",
    "    a.dropoff_datetime,\n",
    "    a.passenger_count,\n",
    "    a.trip_time_in_secs,\n",
    "    a.trip_distance,\n",
    "    a.pickup_longitude,\n",
    "    a.pickup_latitude,\n",
    "    a.dropoff_longitude,\n",
    "    a.dropoff_latitude,\n",
    "    b.payment_type,\n",
    "    b.fare_amount,\n",
    "    b.surcharge,\n",
    "    b.mta_tax,\n",
    "    b.tip_amount,\n",
    "    b.tolls_amount,\n",
    "    b.total_amount\n",
    "from trip_data as a \n",
    "    left join fare_data as b\n",
    "        on a.id = b.id\n",
    "''')"
   ]
  },
  {
   "cell_type": "code",
   "execution_count": 24,
   "id": "0562a961",
   "metadata": {},
   "outputs": [
    {
     "data": {
      "text/plain": [
       "21"
      ]
     },
     "execution_count": 24,
     "metadata": {},
     "output_type": "execute_result"
    }
   ],
   "source": [
    "len(final_df.columns)"
   ]
  },
  {
   "cell_type": "code",
   "execution_count": 25,
   "id": "642b5528",
   "metadata": {},
   "outputs": [
    {
     "data": {
      "text/html": [
       "<table border='1'>\n",
       "<tr><th>id</th><th>medallion</th><th>hack_license</th><th>vendor_id</th><th>rate_code</th><th>pickup_datetime</th><th>dropoff_datetime</th><th>passenger_count</th><th>trip_time_in_secs</th><th>trip_distance</th><th>pickup_longitude</th><th>pickup_latitude</th><th>dropoff_longitude</th><th>dropoff_latitude</th><th>payment_type</th><th>fare_amount</th><th>surcharge</th><th>mta_tax</th><th>tip_amount</th><th>tolls_amount</th><th>total_amount</th></tr>\n",
       "<tr><td>0</td><td>2013000001</td><td>2013000001</td><td>VTS</td><td>1</td><td>2013-01-01 00:00:00</td><td>2013-01-01 00:28:00</td><td>1</td><td>1680</td><td>3.94</td><td>-73.990784</td><td>40.76088</td><td>-73.954185</td><td>40.778847</td><td>CSH</td><td>20.5</td><td>0.5</td><td>0.5</td><td>0.0</td><td>0.0</td><td>21.5</td></tr>\n",
       "<tr><td>1</td><td>2013000002</td><td>2013000002</td><td>VTS</td><td>1</td><td>2013-01-01 00:00:00</td><td>2013-01-01 00:06:00</td><td>5</td><td>360</td><td>0.98</td><td>-73.978325</td><td>40.778091</td><td>-73.981834</td><td>40.768639</td><td>CSH</td><td>6.0</td><td>0.5</td><td>0.5</td><td>0.0</td><td>0.0</td><td>7.0</td></tr>\n",
       "<tr><td>2</td><td>2013000003</td><td>2013000003</td><td>VTS</td><td>1</td><td>2013-01-01 00:00:00</td><td>2013-01-01 00:10:00</td><td>1</td><td>600</td><td>2.77</td><td>-73.989616</td><td>40.729988</td><td>-74.013779</td><td>40.705036</td><td>CRD</td><td>10.5</td><td>0.5</td><td>0.5</td><td>2.2</td><td>0.0</td><td>13.7</td></tr>\n",
       "<tr><td>3</td><td>2013000004</td><td>2013000004</td><td>VTS</td><td>1</td><td>2013-01-01 00:00:00</td><td>2013-01-01 00:08:00</td><td>2</td><td>480</td><td>1.68</td><td>-73.981575</td><td>40.767632</td><td>-73.977737</td><td>40.757927</td><td>CRD</td><td>8.0</td><td>0.5</td><td>0.5</td><td>1.7</td><td>0.0</td><td>10.7</td></tr>\n",
       "<tr><td>4</td><td>2013000005</td><td>2013000005</td><td>VTS</td><td>1</td><td>2013-01-01 00:00:00</td><td>2013-01-01 00:16:00</td><td>4</td><td>960</td><td>4.05</td><td>-74.000526</td><td>40.737343</td><td>-73.977226</td><td>40.783607</td><td>CRD</td><td>14.5</td><td>0.5</td><td>0.5</td><td>4.65</td><td>0.0</td><td>20.15</td></tr>\n",
       "</table>\n"
      ],
      "text/plain": [
       "+---+----------+------------+---------+---------+-------------------+-------------------+---------------+-----------------+-------------+----------------+---------------+-----------------+----------------+------------+-----------+---------+-------+----------+------------+------------+\n",
       "| id| medallion|hack_license|vendor_id|rate_code|    pickup_datetime|   dropoff_datetime|passenger_count|trip_time_in_secs|trip_distance|pickup_longitude|pickup_latitude|dropoff_longitude|dropoff_latitude|payment_type|fare_amount|surcharge|mta_tax|tip_amount|tolls_amount|total_amount|\n",
       "+---+----------+------------+---------+---------+-------------------+-------------------+---------------+-----------------+-------------+----------------+---------------+-----------------+----------------+------------+-----------+---------+-------+----------+------------+------------+\n",
       "|  0|2013000001|  2013000001|      VTS|        1|2013-01-01 00:00:00|2013-01-01 00:28:00|              1|             1680|         3.94|      -73.990784|       40.76088|       -73.954185|       40.778847|         CSH|       20.5|      0.5|    0.5|       0.0|         0.0|        21.5|\n",
       "|  1|2013000002|  2013000002|      VTS|        1|2013-01-01 00:00:00|2013-01-01 00:06:00|              5|              360|         0.98|      -73.978325|      40.778091|       -73.981834|       40.768639|         CSH|        6.0|      0.5|    0.5|       0.0|         0.0|         7.0|\n",
       "|  2|2013000003|  2013000003|      VTS|        1|2013-01-01 00:00:00|2013-01-01 00:10:00|              1|              600|         2.77|      -73.989616|      40.729988|       -74.013779|       40.705036|         CRD|       10.5|      0.5|    0.5|       2.2|         0.0|        13.7|\n",
       "|  3|2013000004|  2013000004|      VTS|        1|2013-01-01 00:00:00|2013-01-01 00:08:00|              2|              480|         1.68|      -73.981575|      40.767632|       -73.977737|       40.757927|         CRD|        8.0|      0.5|    0.5|       1.7|         0.0|        10.7|\n",
       "|  4|2013000005|  2013000005|      VTS|        1|2013-01-01 00:00:00|2013-01-01 00:16:00|              4|              960|         4.05|      -74.000526|      40.737343|       -73.977226|       40.783607|         CRD|       14.5|      0.5|    0.5|      4.65|         0.0|       20.15|\n",
       "+---+----------+------------+---------+---------+-------------------+-------------------+---------------+-----------------+-------------+----------------+---------------+-----------------+----------------+------------+-----------+---------+-------+----------+------------+------------+"
      ]
     },
     "execution_count": 25,
     "metadata": {},
     "output_type": "execute_result"
    }
   ],
   "source": [
    "final_df.limit(5)"
   ]
  },
  {
   "cell_type": "markdown",
   "id": "d86b565e",
   "metadata": {},
   "source": [
    "### Data Validation and Data Accuracy"
   ]
  },
  {
   "cell_type": "code",
   "execution_count": 50,
   "id": "a77f75b5",
   "metadata": {},
   "outputs": [
    {
     "name": "stdout",
     "output_type": "stream",
     "text": [
      "+---+---------+------------+---------+---------+---------------+----------------+---------------+-----------------+-------------+----------------+---------------+-----------------+----------------+------------+-----------+---------+-------+----------+------------+------------+\n",
      "| id|medallion|hack_license|vendor_id|rate_code|pickup_datetime|dropoff_datetime|passenger_count|trip_time_in_secs|trip_distance|pickup_longitude|pickup_latitude|dropoff_longitude|dropoff_latitude|payment_type|fare_amount|surcharge|mta_tax|tip_amount|tolls_amount|total_amount|\n",
      "+---+---------+------------+---------+---------+---------------+----------------+---------------+-----------------+-------------+----------------+---------------+-----------------+----------------+------------+-----------+---------+-------+----------+------------+------------+\n",
      "|  0|        0|           0|        0|        0|              0|               0|              0|                0|            0|               0|              0|                0|               0|           0|          0|        0|      0|         0|           0|           0|\n",
      "+---+---------+------------+---------+---------+---------------+----------------+---------------+-----------------+-------------+----------------+---------------+-----------------+----------------+------------+-----------+---------+-------+----------+------------+------------+\n",
      "\n"
     ]
    }
   ],
   "source": [
    "#check for null values\n",
    "null_counts = final_df.select([count(when(col(c).isNull(), c)).alias(c) for c in final_df.columns])\n",
    "null_counts.show()"
   ]
  },
  {
   "cell_type": "code",
   "execution_count": 51,
   "id": "73a98dea",
   "metadata": {},
   "outputs": [
    {
     "data": {
      "text/plain": [
       "['id',\n",
       " 'medallion',\n",
       " 'hack_license',\n",
       " 'vendor_id',\n",
       " 'rate_code',\n",
       " 'pickup_datetime',\n",
       " 'dropoff_datetime',\n",
       " 'passenger_count',\n",
       " 'trip_time_in_secs',\n",
       " 'trip_distance',\n",
       " 'pickup_longitude',\n",
       " 'pickup_latitude',\n",
       " 'dropoff_longitude',\n",
       " 'dropoff_latitude',\n",
       " 'payment_type',\n",
       " 'fare_amount',\n",
       " 'surcharge',\n",
       " 'mta_tax',\n",
       " 'tip_amount',\n",
       " 'tolls_amount',\n",
       " 'total_amount']"
      ]
     },
     "execution_count": 51,
     "metadata": {},
     "output_type": "execute_result"
    }
   ],
   "source": [
    "final_df.columns"
   ]
  },
  {
   "cell_type": "code",
   "execution_count": 52,
   "id": "4fb87a96",
   "metadata": {},
   "outputs": [],
   "source": [
    "final_df = final_df.na.drop(subset=[\n",
    "    'passenger_count',\n",
    "    'trip_time_in_secs',\n",
    "    'trip_distance',\n",
    "    'fare_amount'\n",
    "])"
   ]
  },
  {
   "cell_type": "code",
   "execution_count": 55,
   "id": "ebf0fd04",
   "metadata": {},
   "outputs": [],
   "source": [
    "#'passenger_count', 'trip_time_in_secs', 'trip_distance', 'fare_amount' must be greater than 0\n",
    "final_df = final_df.filter((final_df.passenger_count > 0) & \\\n",
    "                           (final_df.trip_time_in_secs > 0) & \\\n",
    "                           (final_df.trip_distance > 0) & \\\n",
    "                           (final_df.fare_amount > 0)\n",
    "                          )"
   ]
  },
  {
   "cell_type": "code",
   "execution_count": null,
   "id": "89b77afb",
   "metadata": {},
   "outputs": [],
   "source": []
  }
 ],
 "metadata": {
  "kernelspec": {
   "display_name": "Python 3 (ipykernel)",
   "language": "python",
   "name": "python3"
  },
  "language_info": {
   "codemirror_mode": {
    "name": "ipython",
    "version": 3
   },
   "file_extension": ".py",
   "mimetype": "text/x-python",
   "name": "python",
   "nbconvert_exporter": "python",
   "pygments_lexer": "ipython3",
   "version": "3.9.13"
  }
 },
 "nbformat": 4,
 "nbformat_minor": 5
}
